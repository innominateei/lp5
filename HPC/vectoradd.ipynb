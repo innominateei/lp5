{
 "cells": [
  {
   "cell_type": "code",
   "execution_count": null,
   "id": "f485d068",
   "metadata": {},
   "outputs": [],
   "source": [
    "#include<stdio.h>\n",
    "__global__ void vecadd(float *A, float *B, float *C, int N){\n",
    "   int i = blockIdx.x *blockDim.x + threadIdx.x;\n",
    "   if(i<N)\n",
    "     C[i] = A[i]+B[i];\n",
    "}\n",
    "\n",
    " int main(){\n",
    "   int N = 5;\n",
    "   size_t size = N* sizeof(float);\n",
    "   float A[] = {1,2,3,4,5};\n",
    "   float B[] = {10,20,30,40,50};\n",
    "   float C[5];\n",
    "\n",
    "   float *d_A, *d_B, *d_C;\n",
    "   cudaMalloc(&d_A, size);\n",
    "   cudaMalloc(&d_B, size);\n",
    "   cudaMalloc(&d_C, size);\n",
    "   \n",
    "   cudaMemcpy(d_A, A, size, cudaMemcpyHostToDevice);\n",
    "   cudaMemcpy(d_B, B, size, cudaMemcpyHostToDevice);\n",
    "\n",
    "   vecadd<<<1, N>>>(d_A, d_B, d_C, N);\n",
    "\n",
    "   cudaMemcpy(C, d_C, size, cudaMemcpyDeviceToHost);\n",
    "\n",
    "   printf(\"Result matrix C:\\n\");\n",
    "   for (int i = 0; i < N; i++)\n",
    "     printf(\"%f \", C[i]);\n",
    "   printf(\"\\n\");\n",
    "\n",
    "   cudaFree(d_A);\n",
    "   cudaFree(d_B);\n",
    "   cudaFree(d_C);\n",
    "   return 0;\n",
    " }\n"
   ]
  }
 ],
 "metadata": {
  "kernelspec": {
   "display_name": "Python 3",
   "language": "python",
   "name": "python3"
  },
  "language_info": {
   "name": "python",
   "version": "3.13.1"
  }
 },
 "nbformat": 4,
 "nbformat_minor": 5
}
